{
  "cells": [
    {
      "cell_type": "markdown",
      "source": [
        "1 часть"
      ],
      "metadata": {
        "id": "Ej1tOqs1i3ge"
      }
    },
    {
      "cell_type": "code",
      "source": [
        "from keras.models import Sequential\n",
        "from keras.layers import Dense, Flatten, Dropout, Conv2D, MaxPooling2D\n",
        "from keras.optimizers import Adam, SGD\n",
        "from keras.datasets import fashion_mnist\n",
        "from keras.utils import to_categorical\n",
        "\n",
        "from keras import callbacks\n",
        "from keras.callbacks import EarlyStopping"
      ],
      "metadata": {
        "id": "ETFdIBBjSA6E"
      },
      "execution_count": null,
      "outputs": []
    },
    {
      "cell_type": "code",
      "source": [
        "(train_images, train_labels), (test_images, test_labels) = fashion_mnist.load_data()\n",
        "\n",
        "train_images = train_images / 255.0\n",
        "test_images = test_images / 255.0"
      ],
      "metadata": {
        "id": "PDnrQFRYRIHj"
      },
      "execution_count": null,
      "outputs": []
    },
    {
      "cell_type": "code",
      "source": [
        "train_labels_one_hot = to_categorical(train_labels, num_classes=10)\n",
        "test_labels_one_hot = to_categorical(test_labels, num_classes=10)"
      ],
      "metadata": {
        "id": "BBHt64-1RWXa"
      },
      "execution_count": null,
      "outputs": []
    },
    {
      "cell_type": "code",
      "source": [
        "# Var_1 > 87.8%\n",
        "model_1 = Sequential([\n",
        "    Flatten(input_shape=(28, 28)),\n",
        "    Dense(1024, activation='relu'),\n",
        "    Dropout(0.5),\n",
        "    Dense(512, activation='relu'),\n",
        "    Dropout(0.5),\n",
        "    Dense(256, activation='relu'),\n",
        "    Dense(10, activation='softmax')\n",
        "])\n",
        "\n",
        "model_1.compile(optimizer=Adam(learning_rate=0.0005), loss='categorical_crossentropy', metrics=['accuracy'])\n"
      ],
      "metadata": {
        "id": "yEyHllgVRnqg"
      },
      "execution_count": null,
      "outputs": []
    },
    {
      "cell_type": "code",
      "source": [
        "\n",
        "history_1 = model_1.fit(train_images, train_labels_one_hot, batch_size=128, epochs=10, validation_data=(test_images, test_labels_one_hot))\n",
        "\n",
        "loss_1, accuracy_1 = model_1.evaluate(test_images, test_labels_one_hot)\n",
        "print(\"Точность на тестовой выборке:\", accuracy_1)"
      ],
      "metadata": {
        "colab": {
          "base_uri": "https://localhost:8080/"
        },
        "id": "6pNc1UBlRqOv",
        "outputId": "32f220cc-0a7b-485d-e2c9-c2ab131d6910"
      },
      "execution_count": null,
      "outputs": [
        {
          "output_type": "stream",
          "name": "stdout",
          "text": [
            "Epoch 1/10\n",
            "469/469 [==============================] - 4s 5ms/step - loss: 0.6235 - accuracy: 0.7740 - val_loss: 0.4454 - val_accuracy: 0.8405\n",
            "Epoch 2/10\n",
            "469/469 [==============================] - 2s 5ms/step - loss: 0.4433 - accuracy: 0.8373 - val_loss: 0.3958 - val_accuracy: 0.8589\n",
            "Epoch 3/10\n",
            "469/469 [==============================] - 4s 8ms/step - loss: 0.4064 - accuracy: 0.8524 - val_loss: 0.3864 - val_accuracy: 0.8619\n",
            "Epoch 4/10\n",
            "469/469 [==============================] - 2s 5ms/step - loss: 0.3832 - accuracy: 0.8611 - val_loss: 0.3619 - val_accuracy: 0.8679\n",
            "Epoch 5/10\n",
            "469/469 [==============================] - 2s 5ms/step - loss: 0.3650 - accuracy: 0.8656 - val_loss: 0.3550 - val_accuracy: 0.8710\n",
            "Epoch 6/10\n",
            "469/469 [==============================] - 2s 4ms/step - loss: 0.3532 - accuracy: 0.8698 - val_loss: 0.3536 - val_accuracy: 0.8719\n",
            "Epoch 7/10\n",
            "469/469 [==============================] - 3s 6ms/step - loss: 0.3423 - accuracy: 0.8738 - val_loss: 0.3557 - val_accuracy: 0.8723\n",
            "Epoch 8/10\n",
            "469/469 [==============================] - 2s 5ms/step - loss: 0.3318 - accuracy: 0.8769 - val_loss: 0.3474 - val_accuracy: 0.8746\n",
            "Epoch 9/10\n",
            "469/469 [==============================] - 2s 4ms/step - loss: 0.3239 - accuracy: 0.8789 - val_loss: 0.3362 - val_accuracy: 0.8770\n",
            "Epoch 10/10\n",
            "469/469 [==============================] - 2s 4ms/step - loss: 0.3184 - accuracy: 0.8813 - val_loss: 0.3370 - val_accuracy: 0.8758\n",
            "313/313 [==============================] - 1s 2ms/step - loss: 0.3370 - accuracy: 0.8758\n",
            "Точность на тестовой выборке: 0.8758000135421753\n"
          ]
        }
      ]
    },
    {
      "cell_type": "code",
      "source": [
        "#var 2 >89.2%\n",
        "\n",
        "model_2 = Sequential([\n",
        "    Flatten(input_shape=(28, 28)),\n",
        "    Dense(512, activation='relu'),\n",
        "    Dense(256, activation='relu'),\n",
        "    Dense(10, activation='softmax')\n",
        "])\n",
        "\n",
        "model_2.compile(optimizer=Adam(learning_rate=0.001), loss='categorical_crossentropy', metrics=['accuracy'])"
      ],
      "metadata": {
        "id": "uarREHmfwvii"
      },
      "execution_count": null,
      "outputs": []
    },
    {
      "cell_type": "code",
      "source": [
        "history_2 = model_2.fit(train_images, train_labels_one_hot, batch_size=256, epochs=20, validation_data=(test_images, test_labels_one_hot))\n",
        "\n",
        "loss_2, accuracy_2 = model_2.evaluate(test_images, test_labels_one_hot)\n",
        "print(\"Точность на тестовой выборке:\", accuracy_2)\n"
      ],
      "metadata": {
        "colab": {
          "base_uri": "https://localhost:8080/"
        },
        "id": "JZat5bfiUrOO",
        "outputId": "e326abc0-45ab-41b5-8bcb-f976ac90e5a0"
      },
      "execution_count": null,
      "outputs": [
        {
          "output_type": "stream",
          "name": "stdout",
          "text": [
            "Epoch 1/20\n",
            "235/235 [==============================] - 2s 5ms/step - loss: 0.5135 - accuracy: 0.8189 - val_loss: 0.4526 - val_accuracy: 0.8387\n",
            "Epoch 2/20\n",
            "235/235 [==============================] - 1s 6ms/step - loss: 0.3702 - accuracy: 0.8661 - val_loss: 0.4060 - val_accuracy: 0.8455\n",
            "Epoch 3/20\n",
            "235/235 [==============================] - 1s 4ms/step - loss: 0.3261 - accuracy: 0.8813 - val_loss: 0.3885 - val_accuracy: 0.8618\n",
            "Epoch 4/20\n",
            "235/235 [==============================] - 1s 4ms/step - loss: 0.2968 - accuracy: 0.8912 - val_loss: 0.3542 - val_accuracy: 0.8721\n",
            "Epoch 5/20\n",
            "235/235 [==============================] - 1s 4ms/step - loss: 0.2760 - accuracy: 0.8975 - val_loss: 0.3437 - val_accuracy: 0.8730\n",
            "Epoch 6/20\n",
            "235/235 [==============================] - 1s 4ms/step - loss: 0.2645 - accuracy: 0.9022 - val_loss: 0.3260 - val_accuracy: 0.8813\n",
            "Epoch 7/20\n",
            "235/235 [==============================] - 1s 4ms/step - loss: 0.2502 - accuracy: 0.9064 - val_loss: 0.3394 - val_accuracy: 0.8791\n",
            "Epoch 8/20\n",
            "235/235 [==============================] - 1s 4ms/step - loss: 0.2370 - accuracy: 0.9117 - val_loss: 0.3253 - val_accuracy: 0.8887\n",
            "Epoch 9/20\n",
            "235/235 [==============================] - 1s 4ms/step - loss: 0.2260 - accuracy: 0.9155 - val_loss: 0.3391 - val_accuracy: 0.8806\n",
            "Epoch 10/20\n",
            "235/235 [==============================] - 1s 4ms/step - loss: 0.2165 - accuracy: 0.9182 - val_loss: 0.3452 - val_accuracy: 0.8769\n",
            "Epoch 11/20\n",
            "235/235 [==============================] - 1s 4ms/step - loss: 0.2101 - accuracy: 0.9213 - val_loss: 0.3074 - val_accuracy: 0.8933\n",
            "Epoch 12/20\n",
            "235/235 [==============================] - 1s 4ms/step - loss: 0.2001 - accuracy: 0.9245 - val_loss: 0.3282 - val_accuracy: 0.8890\n",
            "Epoch 13/20\n",
            "235/235 [==============================] - 1s 5ms/step - loss: 0.1929 - accuracy: 0.9290 - val_loss: 0.3310 - val_accuracy: 0.8918\n",
            "Epoch 14/20\n",
            "235/235 [==============================] - 1s 5ms/step - loss: 0.1854 - accuracy: 0.9301 - val_loss: 0.3262 - val_accuracy: 0.8897\n",
            "Epoch 15/20\n",
            "235/235 [==============================] - 1s 4ms/step - loss: 0.1788 - accuracy: 0.9326 - val_loss: 0.3309 - val_accuracy: 0.8920\n",
            "Epoch 16/20\n",
            "235/235 [==============================] - 1s 4ms/step - loss: 0.1747 - accuracy: 0.9349 - val_loss: 0.3351 - val_accuracy: 0.8879\n",
            "Epoch 17/20\n",
            "235/235 [==============================] - 1s 4ms/step - loss: 0.1650 - accuracy: 0.9379 - val_loss: 0.3590 - val_accuracy: 0.8846\n",
            "Epoch 18/20\n",
            "235/235 [==============================] - 1s 4ms/step - loss: 0.1629 - accuracy: 0.9388 - val_loss: 0.3279 - val_accuracy: 0.8970\n",
            "Epoch 19/20\n",
            "235/235 [==============================] - 1s 4ms/step - loss: 0.1505 - accuracy: 0.9442 - val_loss: 0.3435 - val_accuracy: 0.8932\n",
            "Epoch 20/20\n",
            "235/235 [==============================] - 1s 4ms/step - loss: 0.1461 - accuracy: 0.9449 - val_loss: 0.3502 - val_accuracy: 0.8945\n",
            "313/313 [==============================] - 1s 2ms/step - loss: 0.3502 - accuracy: 0.8945\n",
            "Точность на тестовой выборке: 0.8945000171661377\n"
          ]
        }
      ]
    },
    {
      "cell_type": "code",
      "source": [
        "#Var 3 - >89.1%\n",
        "\n",
        "model_3 = Sequential([\n",
        "    Flatten(input_shape=(28, 28)),\n",
        "    Dense(512, activation='relu'),\n",
        "    Dense(256, activation='relu'),\n",
        "    Dense(10, activation='softmax')\n",
        "])\n",
        "\n",
        "model_3.compile(optimizer=Adam(learning_rate=0.0001), loss='categorical_crossentropy', metrics=['accuracy'])"
      ],
      "metadata": {
        "id": "p37JUfVTL1vN"
      },
      "execution_count": null,
      "outputs": []
    },
    {
      "cell_type": "code",
      "source": [
        "history_3 = model_3.fit(train_images, train_labels_one_hot, batch_size=128, epochs=30, validation_data=(test_images, test_labels_one_hot))\n",
        "\n",
        "loss_3, accuracy_3 = model_3.evaluate(test_images, test_labels_one_hot)\n",
        "print(\"Точность на тестовой выборке:\", accuracy_3)\n"
      ],
      "metadata": {
        "colab": {
          "base_uri": "https://localhost:8080/"
        },
        "id": "gzLBP4c4WDll",
        "outputId": "1aa9ce6f-9cdc-4929-f477-98d31942ae86"
      },
      "execution_count": null,
      "outputs": [
        {
          "output_type": "stream",
          "name": "stdout",
          "text": [
            "Epoch 1/30\n",
            "469/469 [==============================] - 3s 4ms/step - loss: 0.6808 - accuracy: 0.7809 - val_loss: 0.4840 - val_accuracy: 0.8343\n",
            "Epoch 2/30\n",
            "469/469 [==============================] - 2s 5ms/step - loss: 0.4311 - accuracy: 0.8509 - val_loss: 0.4324 - val_accuracy: 0.8486\n",
            "Epoch 3/30\n",
            "469/469 [==============================] - 2s 4ms/step - loss: 0.3868 - accuracy: 0.8650 - val_loss: 0.4053 - val_accuracy: 0.8526\n",
            "Epoch 4/30\n",
            "469/469 [==============================] - 2s 4ms/step - loss: 0.3601 - accuracy: 0.8739 - val_loss: 0.3882 - val_accuracy: 0.8630\n",
            "Epoch 5/30\n",
            "469/469 [==============================] - 2s 4ms/step - loss: 0.3423 - accuracy: 0.8795 - val_loss: 0.3762 - val_accuracy: 0.8653\n",
            "Epoch 6/30\n",
            "469/469 [==============================] - 2s 4ms/step - loss: 0.3246 - accuracy: 0.8847 - val_loss: 0.3681 - val_accuracy: 0.8684\n",
            "Epoch 7/30\n",
            "469/469 [==============================] - 2s 4ms/step - loss: 0.3119 - accuracy: 0.8888 - val_loss: 0.3557 - val_accuracy: 0.8725\n",
            "Epoch 8/30\n",
            "469/469 [==============================] - 2s 5ms/step - loss: 0.3001 - accuracy: 0.8930 - val_loss: 0.3488 - val_accuracy: 0.8792\n",
            "Epoch 9/30\n",
            "469/469 [==============================] - 2s 4ms/step - loss: 0.2885 - accuracy: 0.8971 - val_loss: 0.3576 - val_accuracy: 0.8711\n",
            "Epoch 10/30\n",
            "469/469 [==============================] - 2s 4ms/step - loss: 0.2814 - accuracy: 0.8985 - val_loss: 0.3407 - val_accuracy: 0.8799\n",
            "Epoch 11/30\n",
            "469/469 [==============================] - 2s 4ms/step - loss: 0.2719 - accuracy: 0.9022 - val_loss: 0.3432 - val_accuracy: 0.8766\n",
            "Epoch 12/30\n",
            "469/469 [==============================] - 2s 4ms/step - loss: 0.2645 - accuracy: 0.9048 - val_loss: 0.3340 - val_accuracy: 0.8802\n",
            "Epoch 13/30\n",
            "469/469 [==============================] - 2s 4ms/step - loss: 0.2575 - accuracy: 0.9079 - val_loss: 0.3331 - val_accuracy: 0.8824\n",
            "Epoch 14/30\n",
            "469/469 [==============================] - 2s 5ms/step - loss: 0.2519 - accuracy: 0.9092 - val_loss: 0.3246 - val_accuracy: 0.8841\n",
            "Epoch 15/30\n",
            "469/469 [==============================] - 2s 4ms/step - loss: 0.2422 - accuracy: 0.9121 - val_loss: 0.3250 - val_accuracy: 0.8839\n",
            "Epoch 16/30\n",
            "469/469 [==============================] - 2s 4ms/step - loss: 0.2359 - accuracy: 0.9144 - val_loss: 0.3253 - val_accuracy: 0.8841\n",
            "Epoch 17/30\n",
            "469/469 [==============================] - 2s 4ms/step - loss: 0.2313 - accuracy: 0.9164 - val_loss: 0.3430 - val_accuracy: 0.8804\n",
            "Epoch 18/30\n",
            "469/469 [==============================] - 2s 4ms/step - loss: 0.2271 - accuracy: 0.9174 - val_loss: 0.3179 - val_accuracy: 0.8872\n",
            "Epoch 19/30\n",
            "469/469 [==============================] - 2s 4ms/step - loss: 0.2190 - accuracy: 0.9220 - val_loss: 0.3149 - val_accuracy: 0.8888\n",
            "Epoch 20/30\n",
            "469/469 [==============================] - 2s 4ms/step - loss: 0.2146 - accuracy: 0.9228 - val_loss: 0.3141 - val_accuracy: 0.8870\n",
            "Epoch 21/30\n",
            "469/469 [==============================] - 2s 5ms/step - loss: 0.2108 - accuracy: 0.9244 - val_loss: 0.3158 - val_accuracy: 0.8883\n",
            "Epoch 22/30\n",
            "469/469 [==============================] - 2s 4ms/step - loss: 0.2042 - accuracy: 0.9264 - val_loss: 0.3118 - val_accuracy: 0.8905\n",
            "Epoch 23/30\n",
            "469/469 [==============================] - 2s 4ms/step - loss: 0.2000 - accuracy: 0.9275 - val_loss: 0.3117 - val_accuracy: 0.8883\n",
            "Epoch 24/30\n",
            "469/469 [==============================] - 2s 4ms/step - loss: 0.1939 - accuracy: 0.9307 - val_loss: 0.3188 - val_accuracy: 0.8876\n",
            "Epoch 25/30\n",
            "469/469 [==============================] - 2s 4ms/step - loss: 0.1887 - accuracy: 0.9326 - val_loss: 0.3110 - val_accuracy: 0.8933\n",
            "Epoch 26/30\n",
            "469/469 [==============================] - 2s 4ms/step - loss: 0.1866 - accuracy: 0.9338 - val_loss: 0.3098 - val_accuracy: 0.8922\n",
            "Epoch 27/30\n",
            "469/469 [==============================] - 3s 5ms/step - loss: 0.1812 - accuracy: 0.9351 - val_loss: 0.3099 - val_accuracy: 0.8927\n",
            "Epoch 28/30\n",
            "469/469 [==============================] - 2s 4ms/step - loss: 0.1772 - accuracy: 0.9373 - val_loss: 0.3163 - val_accuracy: 0.8883\n",
            "Epoch 29/30\n",
            "469/469 [==============================] - 2s 4ms/step - loss: 0.1720 - accuracy: 0.9390 - val_loss: 0.3214 - val_accuracy: 0.8892\n",
            "Epoch 30/30\n",
            "469/469 [==============================] - 2s 4ms/step - loss: 0.1691 - accuracy: 0.9395 - val_loss: 0.3102 - val_accuracy: 0.8956\n",
            "313/313 [==============================] - 1s 2ms/step - loss: 0.3102 - accuracy: 0.8956\n",
            "Точность на тестовой выборке: 0.8956000208854675\n"
          ]
        }
      ]
    },
    {
      "cell_type": "code",
      "source": [
        "#Var_4 >88.1%\n",
        "model_4 = Sequential([\n",
        "    Flatten(input_shape=(28, 28)),\n",
        "    Dense(512, activation='relu'),\n",
        "    Dropout(0.2),\n",
        "    Dense(10, activation='softmax')\n",
        "])\n",
        "\n",
        "model_4.compile(optimizer='adam',\n",
        "              loss='sparse_categorical_crossentropy',\n",
        "              metrics=['accuracy'])"
      ],
      "metadata": {
        "id": "jfxD5jMVXf5i"
      },
      "execution_count": null,
      "outputs": []
    },
    {
      "cell_type": "code",
      "source": [
        "history_4 = model_4.fit(train_images, train_labels, epochs=20, validation_split=0.2)\n",
        "\n",
        "loss_4, accuracy_4 = model_4.evaluate(test_images, test_labels)\n",
        "print(\"Точность на тестовой выборке:\", accuracy_4)"
      ],
      "metadata": {
        "colab": {
          "base_uri": "https://localhost:8080/"
        },
        "id": "0K7AFBHxdWGl",
        "outputId": "cd9068da-a24b-459c-9470-167cf9e9714d"
      },
      "execution_count": null,
      "outputs": [
        {
          "output_type": "stream",
          "name": "stdout",
          "text": [
            "Epoch 1/20\n",
            "1500/1500 [==============================] - 6s 3ms/step - loss: 0.5126 - accuracy: 0.8179 - val_loss: 0.4200 - val_accuracy: 0.8448\n",
            "Epoch 2/20\n",
            "1500/1500 [==============================] - 5s 3ms/step - loss: 0.3924 - accuracy: 0.8572 - val_loss: 0.3590 - val_accuracy: 0.8707\n",
            "Epoch 3/20\n",
            "1500/1500 [==============================] - 5s 3ms/step - loss: 0.3567 - accuracy: 0.8682 - val_loss: 0.3687 - val_accuracy: 0.8673\n",
            "Epoch 4/20\n",
            "1500/1500 [==============================] - 4s 3ms/step - loss: 0.3350 - accuracy: 0.8752 - val_loss: 0.3380 - val_accuracy: 0.8838\n",
            "Epoch 5/20\n",
            "1500/1500 [==============================] - 4s 3ms/step - loss: 0.3200 - accuracy: 0.8802 - val_loss: 0.3453 - val_accuracy: 0.8732\n",
            "Epoch 6/20\n",
            "1500/1500 [==============================] - 5s 3ms/step - loss: 0.3062 - accuracy: 0.8861 - val_loss: 0.3227 - val_accuracy: 0.8808\n",
            "Epoch 7/20\n",
            "1500/1500 [==============================] - 5s 3ms/step - loss: 0.2946 - accuracy: 0.8904 - val_loss: 0.3291 - val_accuracy: 0.8817\n",
            "Epoch 8/20\n",
            "1500/1500 [==============================] - 5s 4ms/step - loss: 0.2849 - accuracy: 0.8938 - val_loss: 0.3195 - val_accuracy: 0.8840\n",
            "Epoch 9/20\n",
            "1500/1500 [==============================] - 5s 3ms/step - loss: 0.2711 - accuracy: 0.8988 - val_loss: 0.3199 - val_accuracy: 0.8878\n",
            "Epoch 10/20\n",
            "1500/1500 [==============================] - 4s 3ms/step - loss: 0.2645 - accuracy: 0.9007 - val_loss: 0.3032 - val_accuracy: 0.8915\n",
            "Epoch 11/20\n",
            "1500/1500 [==============================] - 5s 3ms/step - loss: 0.2573 - accuracy: 0.9035 - val_loss: 0.3131 - val_accuracy: 0.8861\n",
            "Epoch 12/20\n",
            "1500/1500 [==============================] - 4s 3ms/step - loss: 0.2514 - accuracy: 0.9049 - val_loss: 0.3203 - val_accuracy: 0.8878\n",
            "Epoch 13/20\n",
            "1500/1500 [==============================] - 6s 4ms/step - loss: 0.2447 - accuracy: 0.9078 - val_loss: 0.3127 - val_accuracy: 0.8891\n",
            "Epoch 14/20\n",
            "1500/1500 [==============================] - 4s 3ms/step - loss: 0.2370 - accuracy: 0.9106 - val_loss: 0.3071 - val_accuracy: 0.8940\n",
            "Epoch 15/20\n",
            "1500/1500 [==============================] - 4s 3ms/step - loss: 0.2330 - accuracy: 0.9117 - val_loss: 0.3187 - val_accuracy: 0.8946\n",
            "Epoch 16/20\n",
            "1500/1500 [==============================] - 5s 3ms/step - loss: 0.2267 - accuracy: 0.9139 - val_loss: 0.3191 - val_accuracy: 0.8907\n",
            "Epoch 17/20\n",
            "1500/1500 [==============================] - 4s 3ms/step - loss: 0.2243 - accuracy: 0.9140 - val_loss: 0.3609 - val_accuracy: 0.8811\n",
            "Epoch 18/20\n",
            "1500/1500 [==============================] - 5s 4ms/step - loss: 0.2165 - accuracy: 0.9178 - val_loss: 0.3211 - val_accuracy: 0.8928\n",
            "Epoch 19/20\n",
            "1500/1500 [==============================] - 5s 3ms/step - loss: 0.2118 - accuracy: 0.9197 - val_loss: 0.3302 - val_accuracy: 0.8936\n",
            "Epoch 20/20\n",
            "1500/1500 [==============================] - 5s 3ms/step - loss: 0.2069 - accuracy: 0.9223 - val_loss: 0.3479 - val_accuracy: 0.8928\n",
            "313/313 [==============================] - 1s 3ms/step - loss: 0.3863 - accuracy: 0.8813\n",
            "Точность на тестовой выборке: 0.8812999725341797\n"
          ]
        }
      ]
    },
    {
      "cell_type": "code",
      "source": [
        "import tensorflow as tf\n",
        "from tensorflow import keras\n",
        "from keras import layers, models, callbacks\n",
        "from keras.datasets import fashion_mnist\n",
        "import matplotlib.pyplot as plt\n",
        "from keras.callbacks import EarlyStopping"
      ],
      "metadata": {
        "id": "HewfABypj4fs"
      },
      "execution_count": null,
      "outputs": []
    },
    {
      "cell_type": "code",
      "source": [
        "(train_images, train_labels), (test_images, test_labels) = fashion_mnist.load_data()"
      ],
      "metadata": {
        "id": "EuXajyboj32s"
      },
      "execution_count": null,
      "outputs": []
    },
    {
      "cell_type": "code",
      "source": [
        "train_images = train_images.reshape((60000, 28, 28, 1)) / 255.0\n",
        "test_images = test_images.reshape((10000, 28, 28, 1)) / 255.0"
      ],
      "metadata": {
        "id": "mrLrMsvykGOo"
      },
      "execution_count": null,
      "outputs": []
    },
    {
      "cell_type": "code",
      "source": [
        "train_images = train_images.reshape((60000, 28, 28, 1))\n",
        "test_images = test_images.reshape((10000, 28, 28, 1))"
      ],
      "metadata": {
        "id": "0cOfF441s41T"
      },
      "execution_count": null,
      "outputs": []
    },
    {
      "cell_type": "code",
      "source": [
        "#model_var1- c оптимизатором ADAM даёт лучший результат - 91%+\n",
        "model = Sequential([\n",
        "    Conv2D(16, (3, 3), activation='relu', input_shape=(28, 28, 1)),\n",
        "    MaxPooling2D((2, 2)),\n",
        "    Conv2D(32, (3, 3), activation='relu'),\n",
        "    Flatten(),\n",
        "    Dense(32, activation='relu'),\n",
        "    Dense(10, activation='softmax')\n",
        "])"
      ],
      "metadata": {
        "id": "aesRfF3SkGE_"
      },
      "execution_count": null,
      "outputs": []
    },
    {
      "cell_type": "code",
      "source": [
        "#model_var2\n",
        "model = Sequential([\n",
        "    Conv2D(16, (3, 3), activation='relu', input_shape=(28, 28, 1)),\n",
        "    MaxPooling2D((2, 2)),\n",
        "    Conv2D(32, (3, 3), activation='relu'),\n",
        "    Flatten(),\n",
        "    Dense(32, activation='relu'),\n",
        "    Dense(10, activation='softmax')\n",
        "])"
      ],
      "metadata": {
        "id": "U8c5Wo96kF4A"
      },
      "execution_count": null,
      "outputs": []
    },
    {
      "cell_type": "code",
      "source": [
        "#model_var_a\n",
        "model.compile(optimizer='adam',\n",
        "              loss='sparse_categorical_crossentropy',\n",
        "              metrics=['accuracy'])"
      ],
      "metadata": {
        "id": "pdLA7qOZkFgt"
      },
      "execution_count": null,
      "outputs": []
    },
    {
      "cell_type": "code",
      "source": [
        "#model_var_b\n",
        "from keras.optimizers import SGD\n",
        "model.compile(optimizer=SGD(learning_rate=0.01, momentum=0.9),\n",
        "                       loss='sparse_categorical_crossentropy',\n",
        "                       metrics=['accuracy'])"
      ],
      "metadata": {
        "id": "PsvF1BP5kefP"
      },
      "execution_count": null,
      "outputs": []
    },
    {
      "cell_type": "code",
      "source": [
        "early_stopping = EarlyStopping(monitor='val_accuracy', patience=3, min_delta=0.001, verbose=1, mode='auto')\n",
        "\n",
        "history = model.fit(train_images, train_labels, epochs=20, batch_size=64,\n",
        "                    validation_data=(test_images, test_labels),\n",
        "                    callbacks=[early_stopping])"
      ],
      "metadata": {
        "colab": {
          "base_uri": "https://localhost:8080/"
        },
        "id": "tFK_OQQTknvj",
        "outputId": "62a450e2-5088-46d4-cfc9-cf6f8a660523"
      },
      "execution_count": null,
      "outputs": [
        {
          "output_type": "stream",
          "name": "stdout",
          "text": [
            "Epoch 1/20\n",
            "938/938 [==============================] - 7s 5ms/step - loss: 0.4791 - accuracy: 0.8310 - val_loss: 0.3764 - val_accuracy: 0.8639\n",
            "Epoch 2/20\n",
            "938/938 [==============================] - 4s 4ms/step - loss: 0.3159 - accuracy: 0.8879 - val_loss: 0.3104 - val_accuracy: 0.8889\n",
            "Epoch 3/20\n",
            "938/938 [==============================] - 4s 4ms/step - loss: 0.2707 - accuracy: 0.9024 - val_loss: 0.3083 - val_accuracy: 0.8892\n",
            "Epoch 4/20\n",
            "938/938 [==============================] - 4s 5ms/step - loss: 0.2414 - accuracy: 0.9125 - val_loss: 0.2727 - val_accuracy: 0.9024\n",
            "Epoch 5/20\n",
            "938/938 [==============================] - 4s 4ms/step - loss: 0.2209 - accuracy: 0.9189 - val_loss: 0.2544 - val_accuracy: 0.9096\n",
            "Epoch 6/20\n",
            "938/938 [==============================] - 4s 4ms/step - loss: 0.1997 - accuracy: 0.9278 - val_loss: 0.2652 - val_accuracy: 0.9045\n",
            "Epoch 7/20\n",
            "938/938 [==============================] - 5s 5ms/step - loss: 0.1830 - accuracy: 0.9329 - val_loss: 0.2485 - val_accuracy: 0.9117\n",
            "Epoch 8/20\n",
            "938/938 [==============================] - 4s 4ms/step - loss: 0.1689 - accuracy: 0.9380 - val_loss: 0.2422 - val_accuracy: 0.9172\n",
            "Epoch 9/20\n",
            "938/938 [==============================] - 4s 4ms/step - loss: 0.1571 - accuracy: 0.9427 - val_loss: 0.2492 - val_accuracy: 0.9119\n",
            "Epoch 10/20\n",
            "938/938 [==============================] - 4s 5ms/step - loss: 0.1412 - accuracy: 0.9481 - val_loss: 0.2389 - val_accuracy: 0.9182\n",
            "Epoch 11/20\n",
            "938/938 [==============================] - 4s 4ms/step - loss: 0.1272 - accuracy: 0.9527 - val_loss: 0.2677 - val_accuracy: 0.9112\n",
            "Epoch 11: early stopping\n"
          ]
        }
      ]
    },
    {
      "cell_type": "code",
      "source": [
        "history = model.fit(train_images, train_labels, epochs=10, batch_size=128,\n",
        "                                      validation_data=(test_images, test_labels),\n",
        "                                      callbacks=[callbacks.EarlyStopping(patience=3)])"
      ],
      "metadata": {
        "id": "ippNvE_Oknd3",
        "colab": {
          "base_uri": "https://localhost:8080/"
        },
        "outputId": "903c31a6-1b3e-495e-d90e-6082bf2b9666"
      },
      "execution_count": null,
      "outputs": [
        {
          "output_type": "stream",
          "name": "stdout",
          "text": [
            "Epoch 1/10\n",
            "469/469 [==============================] - 28s 59ms/step - loss: 0.2100 - accuracy: 0.9230 - val_loss: 0.2574 - val_accuracy: 0.9064\n",
            "Epoch 2/10\n",
            "469/469 [==============================] - 23s 48ms/step - loss: 0.1962 - accuracy: 0.9281 - val_loss: 0.2618 - val_accuracy: 0.9072\n",
            "Epoch 3/10\n",
            "469/469 [==============================] - 24s 51ms/step - loss: 0.1837 - accuracy: 0.9332 - val_loss: 0.2517 - val_accuracy: 0.9119\n",
            "Epoch 4/10\n",
            "469/469 [==============================] - 25s 53ms/step - loss: 0.1722 - accuracy: 0.9367 - val_loss: 0.2452 - val_accuracy: 0.9136\n",
            "Epoch 5/10\n",
            "469/469 [==============================] - 29s 61ms/step - loss: 0.1629 - accuracy: 0.9411 - val_loss: 0.2505 - val_accuracy: 0.9129\n",
            "Epoch 6/10\n",
            "469/469 [==============================] - 24s 51ms/step - loss: 0.1537 - accuracy: 0.9433 - val_loss: 0.2544 - val_accuracy: 0.9123\n",
            "Epoch 7/10\n",
            "469/469 [==============================] - 24s 51ms/step - loss: 0.1438 - accuracy: 0.9478 - val_loss: 0.2415 - val_accuracy: 0.9167\n",
            "Epoch 8/10\n",
            "469/469 [==============================] - 24s 51ms/step - loss: 0.1348 - accuracy: 0.9510 - val_loss: 0.2578 - val_accuracy: 0.9130\n",
            "Epoch 9/10\n",
            "469/469 [==============================] - 25s 54ms/step - loss: 0.1263 - accuracy: 0.9534 - val_loss: 0.2635 - val_accuracy: 0.9109\n",
            "Epoch 10/10\n",
            "469/469 [==============================] - 24s 52ms/step - loss: 0.1190 - accuracy: 0.9566 - val_loss: 0.2616 - val_accuracy: 0.9131\n"
          ]
        }
      ]
    },
    {
      "cell_type": "code",
      "source": [
        "test_loss, test_acc = model.evaluate(test_images, test_labels)\n",
        "print(f'Производительность модели: {test_acc}')"
      ],
      "metadata": {
        "id": "N2qYJRimkd_-",
        "colab": {
          "base_uri": "https://localhost:8080/"
        },
        "outputId": "184999d7-4dfa-4760-9572-5a2fb30f0aa9"
      },
      "execution_count": null,
      "outputs": [
        {
          "output_type": "stream",
          "name": "stdout",
          "text": [
            "313/313 [==============================] - 1s 2ms/step - loss: 0.2677 - accuracy: 0.9112\n",
            "Производительность модели: 0.9111999869346619\n"
          ]
        }
      ]
    },
    {
      "cell_type": "code",
      "source": [
        "print(\"Точность на тестовой выборке на простых моделях\\n\")\n",
        "print(\"Точность на тестовой выборке 1:\", accuracy_1)\n",
        "print(\"\\nТочность на тестовой выборке 2:\", accuracy_2)\n",
        "print(\"\\nТочность на тестовой выборке 3:\", accuracy_3)\n",
        "print(\"\\nТочность на тестовой выборке 4:\", accuracy_4)\n",
        "print(\"\\n\\nТочность на тестовой выборке на моделях cверточной нейронной сети\\n\")\n",
        "print(f'Производительность модели: {test_acc}')"
      ],
      "metadata": {
        "colab": {
          "base_uri": "https://localhost:8080/"
        },
        "id": "Z6DRZ8hYwI3M",
        "outputId": "f391e1be-4247-4c96-81e5-3d45f6759c15"
      },
      "execution_count": null,
      "outputs": [
        {
          "output_type": "stream",
          "name": "stdout",
          "text": [
            "Точность на тестовой выборке на простых моделях\n",
            "\n",
            "Точность на тестовой выборке 1: 0.8758000135421753\n",
            "\n",
            "Точность на тестовой выборке 2: 0.8945000171661377\n",
            "\n",
            "Точность на тестовой выборке 3: 0.8956000208854675\n",
            "\n",
            "Точность на тестовой выборке 4: 0.8812999725341797\n",
            "\n",
            "\n",
            "Точность на тестовой выборке на моделях cверточной нейронной сети\n",
            "\n",
            "Производительность модели: 0.9111999869346619\n"
          ]
        }
      ]
    },
    {
      "cell_type": "code",
      "source": [],
      "metadata": {
        "id": "lwNfpl5GwIoG"
      },
      "execution_count": null,
      "outputs": []
    },
    {
      "cell_type": "code",
      "source": [],
      "metadata": {
        "id": "qIWsnevVwIR1"
      },
      "execution_count": null,
      "outputs": []
    },
    {
      "cell_type": "markdown",
      "source": [
        "**2 часть**\n",
        "---\n",
        "решение задачи с использованием модели, которая использует VGG16 в качестве сверточной основы*"
      ],
      "metadata": {
        "id": "-0YgYy4Ajzg9"
      }
    },
    {
      "cell_type": "code",
      "source": [
        "import numpy as np\n",
        "from keras.applications import VGG16\n",
        "from keras.preprocessing.image import img_to_array, array_to_img\n",
        "from skimage.transform import resize"
      ],
      "metadata": {
        "id": "5DM3Onu1iHbZ"
      },
      "execution_count": null,
      "outputs": []
    },
    {
      "cell_type": "code",
      "source": [
        "(x_train, y_train), (x_test, y_test) = fashion_mnist.load_data()\n",
        "x_train_resized = np.array([resize(img, (32, 32)) for img in x_train])\n",
        "x_test_resized = np.array([resize(img, (32, 32)) for img in x_test])\n",
        "x_train_resized = np.repeat(x_train_resized[..., np.newaxis], 3, -1)\n",
        "x_test_resized = np.repeat(x_test_resized[..., np.newaxis], 3, -1)\n",
        "y_train = to_categorical(y_train, num_classes=10)\n",
        "y_test = to_categorical(y_test, num_classes=10)"
      ],
      "metadata": {
        "id": "txNDxvrgiWZK"
      },
      "execution_count": null,
      "outputs": []
    },
    {
      "cell_type": "code",
      "source": [
        "base_model = VGG16(weights=\"imagenet\", include_top=False, input_shape=(32, 32, 3))\n",
        "base_model.trainable = False"
      ],
      "metadata": {
        "id": "34bcilHplMn-"
      },
      "execution_count": null,
      "outputs": []
    },
    {
      "cell_type": "code",
      "source": [
        "model_vgg16_1 = Sequential([\n",
        "   base_model,\n",
        "   Flatten(),\n",
        "   Dense(256, activation='relu'),\n",
        "   Dropout(0.5),\n",
        "   Dense(128, activation='relu'),\n",
        "   Dense(10, activation='softmax'),\n",
        "])"
      ],
      "metadata": {
        "id": "HZ8hRseNm_h0"
      },
      "execution_count": null,
      "outputs": []
    },
    {
      "cell_type": "code",
      "source": [
        "# Точность ~87%\n",
        "model_vgg16_1.compile(optimizer=Adam(learning_rate=0.001), loss='categorical_crossentropy', metrics=['accuracy'])"
      ],
      "metadata": {
        "id": "kX0JoQH4im3u"
      },
      "execution_count": null,
      "outputs": []
    },
    {
      "cell_type": "code",
      "execution_count": null,
      "metadata": {
        "colab": {
          "base_uri": "https://localhost:8080/"
        },
        "id": "v1FcKDt6der6",
        "outputId": "9f2a7f11-ba84-4513-8496-23f8af6ef9a5"
      },
      "outputs": [
        {
          "output_type": "stream",
          "name": "stdout",
          "text": [
            "Epoch 1/15\n",
            "469/469 [==============================] - 10s 20ms/step - loss: 0.6884 - accuracy: 0.7533 - val_loss: 0.4796 - val_accuracy: 0.8244\n",
            "Epoch 2/15\n",
            "469/469 [==============================] - 9s 18ms/step - loss: 0.4817 - accuracy: 0.8246 - val_loss: 0.4173 - val_accuracy: 0.8454\n",
            "Epoch 3/15\n",
            "469/469 [==============================] - 8s 18ms/step - loss: 0.4440 - accuracy: 0.8373 - val_loss: 0.4106 - val_accuracy: 0.8497\n",
            "Epoch 4/15\n",
            "469/469 [==============================] - 9s 18ms/step - loss: 0.4206 - accuracy: 0.8458 - val_loss: 0.3913 - val_accuracy: 0.8529\n",
            "Epoch 5/15\n",
            "469/469 [==============================] - 9s 19ms/step - loss: 0.4053 - accuracy: 0.8496 - val_loss: 0.3828 - val_accuracy: 0.8612\n",
            "Epoch 6/15\n",
            "469/469 [==============================] - 9s 19ms/step - loss: 0.3888 - accuracy: 0.8557 - val_loss: 0.3838 - val_accuracy: 0.8547\n",
            "Epoch 7/15\n",
            "469/469 [==============================] - 9s 18ms/step - loss: 0.3823 - accuracy: 0.8586 - val_loss: 0.3728 - val_accuracy: 0.8613\n",
            "Epoch 8/15\n",
            "469/469 [==============================] - 9s 19ms/step - loss: 0.3743 - accuracy: 0.8605 - val_loss: 0.3686 - val_accuracy: 0.8652\n",
            "Epoch 9/15\n",
            "469/469 [==============================] - 9s 18ms/step - loss: 0.3679 - accuracy: 0.8639 - val_loss: 0.3676 - val_accuracy: 0.8632\n",
            "Epoch 10/15\n",
            "469/469 [==============================] - 9s 19ms/step - loss: 0.3604 - accuracy: 0.8662 - val_loss: 0.3662 - val_accuracy: 0.8658\n",
            "Epoch 11/15\n",
            "469/469 [==============================] - 9s 18ms/step - loss: 0.3557 - accuracy: 0.8672 - val_loss: 0.3671 - val_accuracy: 0.8677\n",
            "Epoch 12/15\n",
            "469/469 [==============================] - 9s 18ms/step - loss: 0.3470 - accuracy: 0.8702 - val_loss: 0.3538 - val_accuracy: 0.8699\n",
            "Epoch 13/15\n",
            "469/469 [==============================] - 9s 19ms/step - loss: 0.3420 - accuracy: 0.8724 - val_loss: 0.3509 - val_accuracy: 0.8717\n",
            "Epoch 14/15\n",
            "469/469 [==============================] - 9s 18ms/step - loss: 0.3374 - accuracy: 0.8743 - val_loss: 0.3627 - val_accuracy: 0.8676\n",
            "Epoch 15/15\n",
            "469/469 [==============================] - 9s 19ms/step - loss: 0.3344 - accuracy: 0.8757 - val_loss: 0.3504 - val_accuracy: 0.8731\n",
            "313/313 [==============================] - 3s 8ms/step - loss: 0.3504 - accuracy: 0.8731\n",
            "Test Accuracy-VGG16 -1 var: 0.8730999827384949\n"
          ]
        }
      ],
      "source": [
        "model_vgg16_1.fit(x_train_resized, y_train, batch_size=128, epochs=15, validation_data=(x_test_resized, y_test))\n",
        "\n",
        "loss_vgg16_1, accuracy_vgg16_1 = model_vgg16_1.evaluate(x_test_resized, y_test)\n",
        "print(\"Test Accuracy-VGG16 -1 var:\", accuracy_vgg16_1)\n"
      ]
    },
    {
      "cell_type": "code",
      "source": [
        "(x_train, y_train), (x_test, y_test) = fashion_mnist.load_data()\n",
        "x_train_resized = np.array([resize(img, (32, 32)) for img in x_train])\n",
        "x_test_resized = np.array([resize(img, (32, 32)) for img in x_test])\n",
        "x_train_resized = np.repeat(x_train_resized[..., np.newaxis], 3, -1)\n",
        "x_test_resized = np.repeat(x_test_resized[..., np.newaxis], 3, -1)\n",
        "y_train = to_categorical(y_train, num_classes=10)\n",
        "y_test = to_categorical(y_test, num_classes=10)"
      ],
      "metadata": {
        "id": "-1pQO_YrmjEq"
      },
      "execution_count": null,
      "outputs": []
    },
    {
      "cell_type": "code",
      "source": [
        "model_vgg16_2 = Sequential([\n",
        "   base_model,\n",
        "   Flatten(),\n",
        "   Dense(256, activation='relu'),\n",
        "   Dense(10, activation='softmax'),\n",
        "])"
      ],
      "metadata": {
        "id": "Iir1-0e_moVP"
      },
      "execution_count": null,
      "outputs": []
    },
    {
      "cell_type": "code",
      "source": [
        "# Точность ~85%\n",
        "model_vgg16_2.compile(optimizer=Adam(learning_rate=0.0001), loss='categorical_crossentropy', metrics=['accuracy'])"
      ],
      "metadata": {
        "id": "RajWavp3qt12"
      },
      "execution_count": null,
      "outputs": []
    },
    {
      "cell_type": "code",
      "execution_count": null,
      "metadata": {
        "colab": {
          "base_uri": "https://localhost:8080/"
        },
        "id": "1V-_tENZWN1U",
        "outputId": "959b8002-6a5d-4aec-a916-9010c4062da3"
      },
      "outputs": [
        {
          "output_type": "stream",
          "name": "stdout",
          "text": [
            "Epoch 1/10\n",
            "1875/1875 [==============================] - 19s 9ms/step - loss: 0.7807 - accuracy: 0.7576 - val_loss: 0.5580 - val_accuracy: 0.8087\n",
            "Epoch 2/10\n",
            "1875/1875 [==============================] - 17s 9ms/step - loss: 0.5042 - accuracy: 0.8232 - val_loss: 0.4865 - val_accuracy: 0.8272\n",
            "Epoch 3/10\n",
            "1875/1875 [==============================] - 17s 9ms/step - loss: 0.4553 - accuracy: 0.8375 - val_loss: 0.4573 - val_accuracy: 0.8353\n",
            "Epoch 4/10\n",
            "1875/1875 [==============================] - 17s 9ms/step - loss: 0.4286 - accuracy: 0.8457 - val_loss: 0.4410 - val_accuracy: 0.8432\n",
            "Epoch 5/10\n",
            "1875/1875 [==============================] - 17s 9ms/step - loss: 0.4113 - accuracy: 0.8518 - val_loss: 0.4266 - val_accuracy: 0.8473\n",
            "Epoch 6/10\n",
            "1875/1875 [==============================] - 17s 9ms/step - loss: 0.3978 - accuracy: 0.8566 - val_loss: 0.4176 - val_accuracy: 0.8511\n",
            "Epoch 7/10\n",
            "1875/1875 [==============================] - 17s 9ms/step - loss: 0.3876 - accuracy: 0.8598 - val_loss: 0.4137 - val_accuracy: 0.8517\n",
            "Epoch 8/10\n",
            "1875/1875 [==============================] - 17s 9ms/step - loss: 0.3785 - accuracy: 0.8629 - val_loss: 0.4096 - val_accuracy: 0.8536\n",
            "Epoch 9/10\n",
            "1875/1875 [==============================] - 17s 9ms/step - loss: 0.3707 - accuracy: 0.8658 - val_loss: 0.3994 - val_accuracy: 0.8548\n",
            "Epoch 10/10\n",
            "1875/1875 [==============================] - 17s 9ms/step - loss: 0.3636 - accuracy: 0.8681 - val_loss: 0.3939 - val_accuracy: 0.8579\n",
            "313/313 [==============================] - 3s 9ms/step - loss: 0.3939 - accuracy: 0.8579\n",
            "Test Accuracy-VGG16 -2 var: 0.8579000234603882\n"
          ]
        }
      ],
      "source": [
        "model_vgg16_2.fit(x_train_resized, y_train, batch_size=32, epochs=10, validation_data=(x_test_resized, y_test))\n",
        "\n",
        "loss_vgg16_2, accuracy_vgg16_2 = model_vgg16_2.evaluate(x_test_resized, y_test)\n",
        "print(\"Test Accuracy-VGG16 -2 var:\", accuracy_vgg16_2)\n"
      ]
    },
    {
      "cell_type": "code",
      "execution_count": null,
      "metadata": {
        "id": "H9s9vc-pfc_A"
      },
      "outputs": [],
      "source": [
        "(train_images, train_labels), (test_images, test_labels) = fashion_mnist.load_data()\n",
        "\n",
        "train_images = train_images / 255.0\n",
        "test_images = test_images / 255.0\n",
        "\n",
        "train_images_resized = np.array([resize(img, (32, 32)) for img in train_images])\n",
        "test_images_resized = np.array([resize(img, (32, 32)) for img in test_images])\n",
        "\n",
        "train_images_resized = np.expand_dims(train_images_resized, axis=-1)\n",
        "test_images_resized = np.expand_dims(test_images_resized, axis=-1)\n",
        "\n",
        "train_images_resized = np.repeat(train_images_resized, 3, axis=-1)\n",
        "test_images_resized = np.repeat(test_images_resized, 3, axis=-1)\n",
        "\n",
        "train_labels_one_hot = to_categorical(train_labels, num_classes=10)"
      ]
    },
    {
      "cell_type": "code",
      "source": [
        "base_model = VGG16(weights='imagenet', include_top=False, input_shape=(32, 32, 3))\n",
        "\n",
        "for layer in base_model.layers[:-4]:\n",
        "    layer.trainable = False\n",
        "\n",
        "model_vgg16_3 = Sequential([\n",
        "    base_model,\n",
        "    Flatten(),\n",
        "    Dense(256, activation='relu'),\n",
        "    Dense(10, activation='softmax')\n",
        "])"
      ],
      "metadata": {
        "id": "f0tWvcwIf1kA"
      },
      "execution_count": null,
      "outputs": []
    },
    {
      "cell_type": "code",
      "source": [
        "#точность >89%\n",
        "model_vgg16_3.compile(optimizer=Adam(learning_rate=0.0001), loss='categorical_crossentropy', metrics=['accuracy'])"
      ],
      "metadata": {
        "id": "M1JQvbyBW3lN"
      },
      "execution_count": null,
      "outputs": []
    },
    {
      "cell_type": "code",
      "source": [
        "#точность >90%\n",
        "model_vgg16_3.compile(optimizer=SGD(learning_rate=0.0001, momentum=0.9), loss='categorical_crossentropy', metrics=['accuracy'])"
      ],
      "metadata": {
        "id": "cTVLMf8IWvCS"
      },
      "execution_count": null,
      "outputs": []
    },
    {
      "cell_type": "code",
      "source": [
        "model_vgg16_3.fit(train_images_resized, train_labels_one_hot, batch_size=32, epochs=20, validation_split=0.2)\n",
        "\n",
        "loss_vgg16_3, accuracy_vgg16_3 = model_vgg16_3.evaluate(test_images_resized, to_categorical(test_labels, num_classes=10))\n",
        "print(\"Точность модели VGG16(var 3) на тестовой выборке (Feature Extraction):\", accuracy_vgg16_3)"
      ],
      "metadata": {
        "colab": {
          "base_uri": "https://localhost:8080/"
        },
        "id": "tvbJOBF5Kh_y",
        "outputId": "1b139775-b0fe-444c-d020-72bd681905ff"
      },
      "execution_count": null,
      "outputs": [
        {
          "output_type": "stream",
          "name": "stdout",
          "text": [
            "Epoch 1/20\n",
            "1500/1500 [==============================] - 25s 16ms/step - loss: 0.6485 - accuracy: 0.7814 - val_loss: 0.4492 - val_accuracy: 0.8373\n",
            "Epoch 2/20\n",
            "1500/1500 [==============================] - 23s 16ms/step - loss: 0.4058 - accuracy: 0.8526 - val_loss: 0.3827 - val_accuracy: 0.8604\n",
            "Epoch 3/20\n",
            "1500/1500 [==============================] - 23s 16ms/step - loss: 0.3593 - accuracy: 0.8708 - val_loss: 0.3610 - val_accuracy: 0.8688\n",
            "Epoch 4/20\n",
            "1500/1500 [==============================] - 24s 16ms/step - loss: 0.3336 - accuracy: 0.8793 - val_loss: 0.3399 - val_accuracy: 0.8788\n",
            "Epoch 5/20\n",
            "1500/1500 [==============================] - 24s 16ms/step - loss: 0.3156 - accuracy: 0.8855 - val_loss: 0.3274 - val_accuracy: 0.8811\n",
            "Epoch 6/20\n",
            "1500/1500 [==============================] - 24s 16ms/step - loss: 0.3015 - accuracy: 0.8904 - val_loss: 0.3395 - val_accuracy: 0.8733\n",
            "Epoch 7/20\n",
            "1500/1500 [==============================] - 24s 16ms/step - loss: 0.2893 - accuracy: 0.8949 - val_loss: 0.3019 - val_accuracy: 0.8910\n",
            "Epoch 8/20\n",
            "1500/1500 [==============================] - 26s 18ms/step - loss: 0.2800 - accuracy: 0.8973 - val_loss: 0.3009 - val_accuracy: 0.8909\n",
            "Epoch 9/20\n",
            "1500/1500 [==============================] - 24s 16ms/step - loss: 0.2703 - accuracy: 0.9017 - val_loss: 0.3052 - val_accuracy: 0.8878\n",
            "Epoch 10/20\n",
            "1500/1500 [==============================] - 24s 16ms/step - loss: 0.2623 - accuracy: 0.9046 - val_loss: 0.2896 - val_accuracy: 0.8931\n",
            "Epoch 11/20\n",
            "1500/1500 [==============================] - 26s 18ms/step - loss: 0.2559 - accuracy: 0.9071 - val_loss: 0.2867 - val_accuracy: 0.8945\n",
            "Epoch 12/20\n",
            "1500/1500 [==============================] - 24s 16ms/step - loss: 0.2485 - accuracy: 0.9096 - val_loss: 0.2976 - val_accuracy: 0.8904\n",
            "Epoch 13/20\n",
            "1500/1500 [==============================] - 26s 17ms/step - loss: 0.2429 - accuracy: 0.9100 - val_loss: 0.2755 - val_accuracy: 0.9000\n",
            "Epoch 14/20\n",
            "1500/1500 [==============================] - 24s 16ms/step - loss: 0.2383 - accuracy: 0.9133 - val_loss: 0.2712 - val_accuracy: 0.9006\n",
            "Epoch 15/20\n",
            "1500/1500 [==============================] - 26s 18ms/step - loss: 0.2312 - accuracy: 0.9159 - val_loss: 0.2909 - val_accuracy: 0.8953\n",
            "Epoch 16/20\n",
            "1500/1500 [==============================] - 24s 16ms/step - loss: 0.2268 - accuracy: 0.9176 - val_loss: 0.2675 - val_accuracy: 0.9045\n",
            "Epoch 17/20\n",
            "1500/1500 [==============================] - 27s 18ms/step - loss: 0.2211 - accuracy: 0.9202 - val_loss: 0.2650 - val_accuracy: 0.9022\n",
            "Epoch 18/20\n",
            "1500/1500 [==============================] - 24s 16ms/step - loss: 0.2173 - accuracy: 0.9204 - val_loss: 0.2587 - val_accuracy: 0.9051\n",
            "Epoch 19/20\n",
            "1500/1500 [==============================] - 27s 18ms/step - loss: 0.2129 - accuracy: 0.9218 - val_loss: 0.2696 - val_accuracy: 0.9002\n",
            "Epoch 20/20\n",
            "1500/1500 [==============================] - 27s 18ms/step - loss: 0.2087 - accuracy: 0.9242 - val_loss: 0.2689 - val_accuracy: 0.9026\n",
            "313/313 [==============================] - 3s 8ms/step - loss: 0.2830 - accuracy: 0.8960\n",
            "Точность модели VGG16(var 3) на тестовой выборке (Feature Extraction): 0.8960000276565552\n"
          ]
        }
      ]
    },
    {
      "cell_type": "code",
      "execution_count": null,
      "metadata": {
        "id": "BlQPA1Qv-ovv",
        "colab": {
          "base_uri": "https://localhost:8080/"
        },
        "outputId": "ec61cc14-dbb2-4c1e-f3cd-073725def7bb"
      },
      "outputs": [
        {
          "output_type": "stream",
          "name": "stdout",
          "text": [
            "313/313 [==============================] - 3s 9ms/step - loss: 0.2765 - accuracy: 0.9010\n",
            "Точность на тестовой выборке (Feature Extraction): 0.9010000228881836\n"
          ]
        }
      ],
      "source": [
        "\n"
      ]
    },
    {
      "cell_type": "code",
      "source": [
        "(train_images, train_labels), (test_images, test_labels) = fashion_mnist.load_data()\n",
        "\n",
        "train_images = train_images / 255.0\n",
        "test_images = test_images / 255.0\n",
        "\n",
        "train_images_resized = np.array([resize(img, (32, 32)) for img in train_images])\n",
        "test_images_resized = np.array([resize(img, (32, 32)) for img in test_images])\n",
        "\n",
        "train_images_resized = np.expand_dims(train_images_resized, axis=-1)\n",
        "test_images_resized = np.expand_dims(test_images_resized, axis=-1)\n",
        "\n",
        "train_images_resized = np.repeat(train_images_resized, 3, axis=-1)\n",
        "test_images_resized = np.repeat(test_images_resized, 3, axis=-1)\n",
        "\n",
        "train_labels_one_hot = to_categorical(train_labels, num_classes=10)\n",
        "\n"
      ],
      "metadata": {
        "id": "X5bSfDZXfGPj"
      },
      "execution_count": null,
      "outputs": []
    },
    {
      "cell_type": "code",
      "source": [
        "# Создание экземпляра модели VGG16 точность >92%\n",
        "base_model = VGG16(weights='imagenet', include_top=False, input_shape=(32, 32, 3))\n",
        "\n",
        "for layer in base_model.layers[:-8]:\n",
        "    layer.trainable = True\n",
        "\n",
        "model_vgg16_4 = Sequential([\n",
        "    base_model,\n",
        "    Flatten(),\n",
        "    Dense(256, activation='relu'),\n",
        "    Dropout(0.5),\n",
        "    Dense(10, activation='softmax')\n",
        "])"
      ],
      "metadata": {
        "id": "Kpoc1c4ofF4d"
      },
      "execution_count": null,
      "outputs": []
    },
    {
      "cell_type": "code",
      "source": [
        "model_vgg16_4.compile(optimizer=SGD(learning_rate=0.0001, momentum=0.9), loss='categorical_crossentropy', metrics=['accuracy'])"
      ],
      "metadata": {
        "id": "NKf5QnBuskdq"
      },
      "execution_count": null,
      "outputs": []
    },
    {
      "cell_type": "code",
      "source": [
        "model_vgg16_4.fit(train_images_resized, train_labels_one_hot, epochs=30, batch_size=32, validation_split=0.2)\n",
        "\n",
        "loss_vgg16_4, accuracy_vgg16_4 = model_vgg16_4.evaluate(test_images_resized, to_categorical(test_labels, num_classes=10))\n",
        "print(\"Точность модели VGG16(var 4) на тестовой выборке :\", accuracy_vgg16_4)\n"
      ],
      "metadata": {
        "colab": {
          "base_uri": "https://localhost:8080/"
        },
        "id": "5Y9A_RuEZYkE",
        "outputId": "dd86689e-35d9-4c9b-94a0-319b80879fc5"
      },
      "execution_count": null,
      "outputs": [
        {
          "output_type": "stream",
          "name": "stdout",
          "text": [
            "Epoch 1/30\n",
            "1500/1500 [==============================] - 45s 29ms/step - loss: 0.6388 - accuracy: 0.7790 - val_loss: 0.3667 - val_accuracy: 0.8706\n",
            "Epoch 2/30\n",
            "1500/1500 [==============================] - 45s 30ms/step - loss: 0.3771 - accuracy: 0.8696 - val_loss: 0.3024 - val_accuracy: 0.8854\n",
            "Epoch 3/30\n",
            "1500/1500 [==============================] - 46s 30ms/step - loss: 0.3280 - accuracy: 0.8859 - val_loss: 0.2850 - val_accuracy: 0.8947\n",
            "Epoch 4/30\n",
            "1500/1500 [==============================] - 43s 29ms/step - loss: 0.2966 - accuracy: 0.8966 - val_loss: 0.2627 - val_accuracy: 0.9036\n",
            "Epoch 5/30\n",
            "1500/1500 [==============================] - 46s 31ms/step - loss: 0.2744 - accuracy: 0.9054 - val_loss: 0.2630 - val_accuracy: 0.9043\n",
            "Epoch 6/30\n",
            "1500/1500 [==============================] - 46s 31ms/step - loss: 0.2549 - accuracy: 0.9100 - val_loss: 0.2408 - val_accuracy: 0.9145\n",
            "Epoch 7/30\n",
            "1500/1500 [==============================] - 43s 29ms/step - loss: 0.2435 - accuracy: 0.9142 - val_loss: 0.2328 - val_accuracy: 0.9153\n",
            "Epoch 8/30\n",
            "1500/1500 [==============================] - 46s 30ms/step - loss: 0.2338 - accuracy: 0.9184 - val_loss: 0.2320 - val_accuracy: 0.9175\n",
            "Epoch 9/30\n",
            "1500/1500 [==============================] - 46s 30ms/step - loss: 0.2198 - accuracy: 0.9227 - val_loss: 0.2230 - val_accuracy: 0.9204\n",
            "Epoch 10/30\n",
            "1500/1500 [==============================] - 43s 29ms/step - loss: 0.2125 - accuracy: 0.9253 - val_loss: 0.2593 - val_accuracy: 0.9046\n",
            "Epoch 11/30\n",
            "1500/1500 [==============================] - 43s 29ms/step - loss: 0.2057 - accuracy: 0.9276 - val_loss: 0.2241 - val_accuracy: 0.9193\n",
            "Epoch 12/30\n",
            "1500/1500 [==============================] - 46s 31ms/step - loss: 0.1959 - accuracy: 0.9319 - val_loss: 0.2170 - val_accuracy: 0.9211\n",
            "Epoch 13/30\n",
            "1500/1500 [==============================] - 43s 29ms/step - loss: 0.1921 - accuracy: 0.9314 - val_loss: 0.2085 - val_accuracy: 0.9224\n",
            "Epoch 14/30\n",
            "1500/1500 [==============================] - 43s 29ms/step - loss: 0.1834 - accuracy: 0.9349 - val_loss: 0.2047 - val_accuracy: 0.9250\n",
            "Epoch 15/30\n",
            "1500/1500 [==============================] - 44s 29ms/step - loss: 0.1772 - accuracy: 0.9371 - val_loss: 0.2073 - val_accuracy: 0.9257\n",
            "Epoch 16/30\n",
            "   7/1500 [..............................] - ETA: 40s - loss: 0.1547 - accuracy: 0.9375"
          ]
        }
      ]
    },
    {
      "cell_type": "code",
      "execution_count": null,
      "metadata": {
        "id": "IxHZTWRBzBxx",
        "colab": {
          "base_uri": "https://localhost:8080/",
          "height": 287
        },
        "outputId": "abd33345-888b-444b-b932-cefd24decc56"
      },
      "outputs": [
        {
          "output_type": "stream",
          "name": "stdout",
          "text": [
            "Сравнение моделей по точностям на тестовых выборках\n",
            "\n",
            "Точность на тестовой выборке на простых моделях\n",
            "\n"
          ]
        },
        {
          "output_type": "error",
          "ename": "NameError",
          "evalue": "name 'accuracy_1' is not defined",
          "traceback": [
            "\u001b[0;31m---------------------------------------------------------------------------\u001b[0m",
            "\u001b[0;31mNameError\u001b[0m                                 Traceback (most recent call last)",
            "\u001b[0;32m<ipython-input-1-1e402c3f025c>\u001b[0m in \u001b[0;36m<cell line: 3>\u001b[0;34m()\u001b[0m\n\u001b[1;32m      1\u001b[0m \u001b[0mprint\u001b[0m\u001b[0;34m(\u001b[0m\u001b[0;34m\"Сравнение моделей по точностям на тестовых выборках\\n\"\u001b[0m\u001b[0;34m)\u001b[0m\u001b[0;34m\u001b[0m\u001b[0;34m\u001b[0m\u001b[0m\n\u001b[1;32m      2\u001b[0m \u001b[0mprint\u001b[0m\u001b[0;34m(\u001b[0m\u001b[0;34m\"Точность на тестовой выборке на простых моделях\\n\"\u001b[0m\u001b[0;34m)\u001b[0m\u001b[0;34m\u001b[0m\u001b[0;34m\u001b[0m\u001b[0m\n\u001b[0;32m----> 3\u001b[0;31m \u001b[0mprint\u001b[0m\u001b[0;34m(\u001b[0m\u001b[0;34m\"Точность на тестовой выборке 1:\"\u001b[0m\u001b[0;34m,\u001b[0m \u001b[0maccuracy_1\u001b[0m\u001b[0;34m)\u001b[0m\u001b[0;34m\u001b[0m\u001b[0;34m\u001b[0m\u001b[0m\n\u001b[0m\u001b[1;32m      4\u001b[0m \u001b[0mprint\u001b[0m\u001b[0;34m(\u001b[0m\u001b[0;34m\"\\nТочность на тестовой выборке 2:\"\u001b[0m\u001b[0;34m,\u001b[0m \u001b[0maccuracy_2\u001b[0m\u001b[0;34m)\u001b[0m\u001b[0;34m\u001b[0m\u001b[0;34m\u001b[0m\u001b[0m\n\u001b[1;32m      5\u001b[0m \u001b[0mprint\u001b[0m\u001b[0;34m(\u001b[0m\u001b[0;34m\"\\nТочность на тестовой выборке 3:\"\u001b[0m\u001b[0;34m,\u001b[0m \u001b[0maccuracy_3\u001b[0m\u001b[0;34m)\u001b[0m\u001b[0;34m\u001b[0m\u001b[0;34m\u001b[0m\u001b[0m\n",
            "\u001b[0;31mNameError\u001b[0m: name 'accuracy_1' is not defined"
          ]
        }
      ],
      "source": [
        "print(\"Сравнение моделей по точностям на тестовых выборках\\n\")\n",
        "print(\"Точность на тестовой выборке на простых моделях\\n\")\n",
        "print(\"Точность на тестовой выборке 1:\", accuracy_1)\n",
        "print(\"\\nТочность на тестовой выборке 2:\", accuracy_2)\n",
        "print(\"\\nТочность на тестовой выборке 3:\", accuracy_3)\n",
        "print(\"\\nТочность на тестовой выборке 4:\", accuracy_4)\n",
        "print(\"\\n\\nТочность на тестовой выборке на моделях cверточной нейронной сети\\n\")\n",
        "print(f'Производительность модели: {test_acc}')\n",
        "print(\"\\n\\nТочность на тестовой выборке на моделях VGG16 cверточной нейронной сети\\n\")\n",
        "print(\"Test Accuracy-VGG16 -1 var:\", accuracy_vgg16_1)\n",
        "print(\"\\nTest Accuracy-VGG16 -2 var:\", accuracy_vgg16_2)\n",
        "print(\"\\nTest Accuracy-VGG16 -3 var:\", accuracy_vgg16_3)\n",
        "print(\"\\nTest Accuracy-VGG16 -4 var:\", accuracy_vgg16_4)"
      ]
    }
  ],
  "metadata": {
    "accelerator": "GPU",
    "colab": {
      "gpuType": "T4",
      "provenance": []
    },
    "kernelspec": {
      "display_name": "Python 3",
      "name": "python3"
    },
    "language_info": {
      "name": "python"
    }
  },
  "nbformat": 4,
  "nbformat_minor": 0
}